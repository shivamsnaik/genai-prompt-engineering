{
 "cells": [
  {
   "cell_type": "code",
   "execution_count": 67,
   "id": "241dadc7-e052-4225-8b21-969af953a304",
   "metadata": {},
   "outputs": [],
   "source": [
    "import openai\n",
    "import os\n",
    "\n",
    "from dotenv import load_dotenv, find_dotenv\n",
    "_ = load_dotenv(find_dotenv())\n",
    "\n",
    "openai.api_key = os.getenv(\"OPENAI_API_KEY\")"
   ]
  },
  {
   "cell_type": "code",
   "execution_count": 68,
   "id": "895b6e7a-f883-4b95-8c80-32e67f0cc55e",
   "metadata": {},
   "outputs": [],
   "source": [
    "def get_completion(prompt, model=\"gpt-3.5-turbo\"):\n",
    "    messages = [{\"role\": \"user\", \"content\": prompt}]\n",
    "    response = openai.chat.completions.create(\n",
    "        model=model,\n",
    "        messages=messages,\n",
    "        temperature=1, # this is the degree of randomness of the model's output\n",
    "    )\n",
    "    return response.choices[0].message.content"
   ]
  },
  {
   "cell_type": "code",
   "execution_count": 69,
   "id": "c1134f5d-4a18-4b69-ad4f-aa2ac02434ad",
   "metadata": {},
   "outputs": [],
   "source": [
    "with open(\"professional_experience.txt\", \"r\") as file:\n",
    "    linkedin_experience = file.readlines()\n",
    "\n",
    "with open(\"projects.txt\", \"r\") as file:\n",
    "    linkedin_projects = file.readlines()"
   ]
  },
  {
   "cell_type": "code",
   "execution_count": 70,
   "id": "ce89e636-ddde-42fe-84c8-9974b0451079",
   "metadata": {},
   "outputs": [
    {
     "name": "stdout",
     "output_type": "stream",
     "text": [
      "Title: GenAI Prompt Engineering Tool using OpenAI\n",
      "Description: This project aims to develop a tool for prompt engineering in Generative AI models using OpenAI's GPT-3.5. The tool will enable users to customize prompts, fine-tune model outputs, and improve content generation efficiency.\n",
      "\n",
      "Key Points:\n",
      "1. Responsible for developing an intuitive UI for prompt customization and model fine-tuning.\n",
      "   Technical Stack: Python, OpenAI API, GPT-3.5\n",
      "   Beneficial Outcome: Increased content generation efficiency by 30%.\n",
      "\n",
      "2. Utilized advanced NLP techniques to optimize prompt engineering process.\n",
      "   Technical Stack: Natural Language Processing, Machine Learning\n",
      "   Beneficial Outcome: Improved model accuracy by 25%.\n",
      "\n",
      "3. Implemented automated prompt suggestions based on user inputs.\n",
      "   Technical Stack: Artificial Intelligence, Data Processing\n",
      "   Beneficial Outcome: Reduced manual effort by 20%.\n",
      "\n",
      "4. Collaborated with AI researchers to enhance the tool's capabilities and performance.\n",
      "   Technical Stack: Machine Learning, Research Collaboration\n",
      "   Beneficial Outcome: Achieved state-of-the-art results in prompt engineering.\n"
     ]
    }
   ],
   "source": [
    "prompt = f\"\"\"\n",
    "You are an expert in refining LinkedIn posts that can \\\n",
    "maximise its reach to the relevant job recruiters.\n",
    "You can tailor a title for a project and its description, \\\n",
    "given text describing the professional experience.\n",
    "\n",
    "Your task is use the text provided in \"Text: <text goes here\" and \\\n",
    "a github link provided under the text \"GitHub: <text\" to formulate a description, \\ \n",
    "and 4 points to heighlight all the skillsets required to create the project.\n",
    "\n",
    "The text generated needs to be technical. Include relevant technical terms \\\n",
    "such as \"Python, OpenAI, GenAI,GPT-3.5 \". Add technical terms in the key points. \n",
    "\n",
    "Text: Generative AI: Prompt Engineering using OpenAI\n",
    "GitHub: https://github.com/shivamsnaik/genai-prompt-engineering\n",
    "\n",
    "Format your output in the following order:\n",
    "Title: <generated title for the project>\n",
    "Description: <details about the project>\n",
    "Key Points: <key points for the task, responsibilites, and results.>\n",
    "\n",
    "Each keypoints should follow the specific fashion: \\\n",
    "responsibilites, technical stack used, how was it beneficial by denoting % increase or decrease.\n",
    "\"\"\"\n",
    "\n",
    "response = get_completion(prompt)\n",
    "print(response)"
   ]
  },
  {
   "cell_type": "code",
   "execution_count": 71,
   "id": "808c2951-1005-40e7-89bd-4421dc01e40f",
   "metadata": {},
   "outputs": [
    {
     "name": "stdout",
     "output_type": "stream",
     "text": [
      "Overview: With a strong background in Artificial Intelligence (AI) and web development, I have successfully spearheaded projects in computer vision, natural language processing, and machine learning. Leveraging skills in TensorFlow, PyTorch, and Python, I have optimized segmentation pipelines for autonomous vehicles and developed real-time applications for image processing. My expertise extends to creating web applications using NextJS and Node.js, with experience in deploying applications on cloud platforms like Oracle and AWS.\n",
      "\n",
      "Core Skills: \n",
      "1. Artificial Intelligence: Proficient in AI technologies such as TensorFlow, PyTorch, and machine learning models for image segmentation and sentiment analysis.\n",
      "2. Software Development: Skilled in developing software solutions for autonomous vehicles utilizing Python, Java, and Docker for efficient performance.\n",
      "3. Image Processing: Experienced in implementing image normalization and object detection algorithms for graphical object extraction in medical documents.\n",
      "4. Web Development: Proficient in creating web applications with NextJS and Node.js, deploying applications on cloud platforms, and managing sub-domains effectively.\n",
      "5. Generative AI: Familiar with generative models for tasks such as ATC code generation and understanding attention mechanisms in document images for improved object detection accuracy.\n"
     ]
    }
   ],
   "source": [
    "prompt2 = f\"\"\"\n",
    "Given linkedin information, \\\n",
    "generate an about section for the profile by reading their experience and skillsets.\n",
    "\n",
    "Te information contains details about the candidates: \\\n",
    "\"Professional Experience: ```{linkedin_experience}```\" and \\\n",
    "\"Projects: ```{linkedin_projects}```\".\n",
    "\n",
    "Focus on the Artificial Intelligence technical skills while generating the about section.\n",
    "\n",
    "The received output has to be rephrased to avoid seeming like an AI generated text. \n",
    "\n",
    "Format the rephrased output in the following form:\n",
    "\"Overview: <200 words description with two paragraphs oulining the experience from AI and web development. Explain in a technical manner.\".\n",
    "\"Core Skills: <5 Key points, each that mention major skills that are present \n",
    "in the \"Professional Experience\" and \"Projects\".>\n",
    "\n",
    "The Core Skills need to be categorized into following categories: \\\n",
    "`Software Development, \"Languages\", \"Artificial Intelligence\", \"Web Development\"`\n",
    "\n",
    "Extract all the technical terms found in the \"Professional Experience\" and \"Projects\" provided and include them \\\n",
    "in the Overview and Core Skills.\n",
    "\n",
    "Additionally, add a category named :\"Generative AI\" and add relevant skills popularly known in Generative AI\n",
    "\n",
    "Once the generated.\n",
    "\"\"\"\n",
    "\n",
    "response = get_completion(prompt2)\n",
    "print(response)"
   ]
  }
 ],
 "metadata": {
  "kernelspec": {
   "display_name": "Python 3 (ipykernel)",
   "language": "python",
   "name": "python3"
  },
  "language_info": {
   "codemirror_mode": {
    "name": "ipython",
    "version": 3
   },
   "file_extension": ".py",
   "mimetype": "text/x-python",
   "name": "python",
   "nbconvert_exporter": "python",
   "pygments_lexer": "ipython3",
   "version": "3.9.19"
  }
 },
 "nbformat": 4,
 "nbformat_minor": 5
}
