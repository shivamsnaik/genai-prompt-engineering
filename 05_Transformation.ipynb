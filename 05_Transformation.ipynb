{
 "cells": [
  {
   "cell_type": "markdown",
   "id": "f4e472d9-f801-4466-bf27-c10c066bd58b",
   "metadata": {},
   "source": [
    "# Transforming\n",
    "\n",
    "In this notebook, we will explore how to use Large Language Models for text transformation tasks such as language translation, spelling and grammar checking, tone adjustment, and format conversion.\n",
    "\n",
    "## Setup"
   ]
  },
  {
   "cell_type": "code",
   "execution_count": 2,
   "id": "bb4e36ae-3c23-4613-8dd5-29dfd72f3bc5",
   "metadata": {},
   "outputs": [],
   "source": [
    "import openai\n",
    "import os\n",
    "\n",
    "from dotenv import load_dotenv, find_dotenv\n",
    "_ = load_dotenv(find_dotenv()) # read local .env file\n",
    "\n",
    "openai.api_key  = os.getenv('OPENAI_API_KEY')"
   ]
  },
  {
   "cell_type": "code",
   "execution_count": 3,
   "id": "398337f5-98ef-41ac-926a-290537610722",
   "metadata": {},
   "outputs": [],
   "source": [
    "def get_completion(prompt, model=\"gpt-3.5-turbo\"):\n",
    "    messages = [{\"role\": \"user\", \"content\": prompt}]\n",
    "    response = openai.chat.completions.create(\n",
    "        model=model,\n",
    "        messages=messages,\n",
    "        temperature=0, # this is the degree of randomness of the model's output\n",
    "    )\n",
    "    return response.choices[0].message.content"
   ]
  },
  {
   "cell_type": "markdown",
   "id": "bf0b73c5-283b-49b4-84cd-c10470bcbff0",
   "metadata": {},
   "source": [
    "## Translation\n",
    "\n",
    "ChatGPT is trained with sources in many languages. This gives the model the ability to do translation. Here are some examples of how to use this capability."
   ]
  },
  {
   "cell_type": "code",
   "execution_count": 4,
   "id": "c3ac79cb-8ba1-46b9-8f5c-12e3370e2b6c",
   "metadata": {},
   "outputs": [
    {
     "name": "stdout",
     "output_type": "stream",
     "text": [
      "Hallo, ich möchte gerne einen Mixer bestellen.\n"
     ]
    }
   ],
   "source": [
    "prompt = f\"\"\"\n",
    "Translate the following English text to German: \\ \n",
    "```Hi, I would like to order a blender```\n",
    "\"\"\"\n",
    "response = get_completion(prompt)\n",
    "print(response)"
   ]
  },
  {
   "cell_type": "code",
   "execution_count": 5,
   "id": "b2008386-8524-44b0-a8f5-78d22b8bf149",
   "metadata": {},
   "outputs": [
    {
     "name": "stdout",
     "output_type": "stream",
     "text": [
      "This is French.\n"
     ]
    }
   ],
   "source": [
    "prompt = f\"\"\"\n",
    "Tell me which language this is: \n",
    "```Combien coûte le lampadaire?```\n",
    "\"\"\"\n",
    "response = get_completion(prompt)\n",
    "print(response)"
   ]
  },
  {
   "cell_type": "code",
   "execution_count": 6,
   "id": "f36a4d82-959d-4ff9-81a3-e79eb0c81a2c",
   "metadata": {},
   "outputs": [
    {
     "name": "stdout",
     "output_type": "stream",
     "text": [
      "French: ```Je veux commander un ballon de basket```\n",
      "\n",
      "Spanish: ```Quiero ordenar un balón de baloncesto```\n",
      "\n",
      "English pirate: ```I be wantin' to order a basketball```\n"
     ]
    }
   ],
   "source": [
    "prompt = f\"\"\"\n",
    "Translate the following  text to French and Spanish\n",
    "and English pirate: \\\n",
    "```I want to order a basketball```\n",
    "\"\"\"\n",
    "response = get_completion(prompt)\n",
    "print(response)"
   ]
  },
  {
   "cell_type": "code",
   "execution_count": 15,
   "id": "c472f948-9314-4589-80ca-2def654298e3",
   "metadata": {},
   "outputs": [
    {
     "name": "stdout",
     "output_type": "stream",
     "text": [
      "Hubballi Kannada:\n",
      "Formal: Nimma iṅṅaḍu māḍutiddīri?\n",
      "- Nimma: Your (formal)\n",
      "- iṅṅaḍu: right now\n",
      "- māḍutiddīri: are doing\n",
      "\n",
      "Informal: Nin iṅṅaḍu māḍuttidīya?\n",
      "- Nin: Your (informal)\n",
      "- iṅṅaḍu: right now\n",
      "- māḍuttidīya: are doing\n",
      "\n",
      "Telugu:\n",
      "Formal: Meeru iṅka emi chestunnāru?\n",
      "- Meeru: You (formal)\n",
      "- iṅka: now\n",
      "- emi: what\n",
      "- chestunnāru: are doing\n",
      "\n",
      "Informal: Nuvvu iṅka emi chestunnāvu?\n",
      "- Nuvvu: You (informal)\n",
      "- iṅka: now\n",
      "- emi: what\n",
      "- chestunnāvu: are doing\n"
     ]
    }
   ],
   "source": [
    "prompt = f\"\"\"\n",
    "Translate the following text to Hubballi Kannada and Telugu in both the \\\n",
    "formal and informal forms: \n",
    "'What are you doing right now?'\n",
    "use english letters to convey kannada\n",
    "explain each word\n",
    "\"\"\"\n",
    "response = get_completion(prompt)\n",
    "print(response)"
   ]
  },
  {
   "cell_type": "markdown",
   "id": "e3c34518-0463-49ba-9a20-d7dc24ef00ff",
   "metadata": {},
   "source": [
    "### Universal Translator\n",
    "Imagine you are in charge of IT at a large multinational e-commerce company. Users are messaging you with IT issues in all their native languages. Your staff is from all over the world and speaks only their native languages. You need a universal translator!"
   ]
  },
  {
   "cell_type": "code",
   "execution_count": 16,
   "id": "03535b87-ee2b-4f9b-a997-2ba1d9086040",
   "metadata": {},
   "outputs": [],
   "source": [
    "user_messages = [\n",
    "  \"La performance du système est plus lente que d'habitude.\",  # System performance is slower than normal         \n",
    "  \"Mi monitor tiene píxeles que no se iluminan.\",              # My monitor has pixels that are not lighting\n",
    "  \"Il mio mouse non funziona\",                                 # My mouse is not working\n",
    "  \"Mój klawisz Ctrl jest zepsuty\",                             # My keyboard has a broken control key\n",
    "  \"我的屏幕在闪烁\"                                               # My screen is flashing\n",
    "] "
   ]
  },
  {
   "cell_type": "code",
   "execution_count": 18,
   "id": "d886d766-1d3d-490d-917a-fd886798d96b",
   "metadata": {},
   "outputs": [
    {
     "name": "stdout",
     "output_type": "stream",
     "text": [
      "Original message(French): La performance du système est plus lente que d'habitude.\n",
      "English: The system performance is slower than usual.\n",
      "German: Die Systemleistung ist langsamer als gewöhnlich.\n",
      "Kannada: ಸಿಸ್ಟಮ್ ಕ್ರಿಯಾಶೀಲತೆ ಸಾಮಾನ್ಯದಿಂದ ನಿಧಾನವಾಗಿದೆ. \n",
      "\n",
      "Original message(Spanish): Mi monitor tiene píxeles que no se iluminan.\n",
      "English: My monitor has pixels that do not light up.\n",
      "German: Mein Monitor hat Pixel, die nicht leuchten.\n",
      "Kannada: ನನ್ನ ಮಾನಿಟರ್ ಬೆಳಗದ ಪಿಕ್ಸೆಲ್‌ಗಳನ್ನು ಹೊಂದಿದೆ. \n",
      "\n",
      "Original message(Italian): Il mio mouse non funziona\n",
      "English: My mouse is not working\n",
      "German: Meine Maus funktioniert nicht\n",
      "Kannada: ನನ್ನ ಮೌಸ್ ಕೆಲಸ ಮಾಡುತ್ತಿಲ್ಲ (Nanna mouse kelasa māḍuttilla) \n",
      "\n",
      "Original message(Polish): Mój klawisz Ctrl jest zepsuty\n",
      "English: My Ctrl key is broken\n",
      "German: Meine Strg-Taste ist kaputt\n",
      "Kannada: ನನ್ನ Ctrl ಕೀ ಸಿಟಿಎಲ್ ಸಡಿಯಿದೆ \n",
      "\n",
      "Original message(Chinese): 我的屏幕在闪烁\n",
      "English: My screen is flickering\n",
      "German: Mein Bildschirm flackert\n",
      "Kannada: ನನ್ನ ತಡಿಸುವುದು ಬೆಳಕಿನಲ್ಲಿ ಕಾಣುತ್ತಿದೆ \n",
      "\n"
     ]
    }
   ],
   "source": [
    "for issue in user_messages:\n",
    "    prompt = f\"Tell me what language this is ```{issue}```. Given answer in one word\"\n",
    "    lang = get_completion(prompt)\n",
    "    print(f\"Original message({lang}): {issue}\")\n",
    "    \n",
    "    prompt = f\"\"\"\n",
    "    Translate the following text to English \\\n",
    "    German, and informal Kannada: ```{issue}```\n",
    "    \"\"\"\n",
    "    \n",
    "    response = get_completion(prompt)\n",
    "    print(response, \"\\n\")"
   ]
  },
  {
   "cell_type": "markdown",
   "id": "62683cd2-96a3-4d2c-92f4-5e15c520c5a7",
   "metadata": {},
   "source": [
    "## Tone Transformation\n",
    "Writing can vary based on the intended audience. ChatGPT can produce different tones.\n"
   ]
  },
  {
   "cell_type": "code",
   "execution_count": 19,
   "id": "e951151b-45a6-461a-b1a5-c0fb463d51aa",
   "metadata": {},
   "outputs": [
    {
     "name": "stdout",
     "output_type": "stream",
     "text": [
      "Dear Sir/Madam,\n",
      "\n",
      "I am writing to bring to your attention the specifications of a standing lamp that I believe may be of interest to you. \n",
      "\n",
      "Sincerely,\n",
      "Joe\n"
     ]
    }
   ],
   "source": [
    "prompt = f\"\"\"\n",
    "Translate the following from slang to a business letter: \n",
    "'Dude, This is Joe, check out this spec on this standing lamp.'\n",
    "\"\"\"\n",
    "response = get_completion(prompt)\n",
    "print(response)"
   ]
  },
  {
   "cell_type": "markdown",
   "id": "67e8883b-e6ac-4649-b98d-89ecb7ff1598",
   "metadata": {},
   "source": [
    "## Format Conversion\n",
    "ChatGPT can translate between formats. The prompt should describe the input and output formats."
   ]
  },
  {
   "cell_type": "code",
   "execution_count": 20,
   "id": "c6f7bead-563c-4430-9807-bfa402371fb6",
   "metadata": {
    "scrolled": true
   },
   "outputs": [
    {
     "name": "stdout",
     "output_type": "stream",
     "text": [
      "<html>\n",
      "<head>\n",
      "    <title>Restaurant Employees</title>\n",
      "</head>\n",
      "<body>\n",
      "    <table border=\"1\">\n",
      "        <tr>\n",
      "            <th>Name</th>\n",
      "            <th>Email</th>\n",
      "        </tr>\n",
      "        <tr>\n",
      "            <td>Shyam</td>\n",
      "            <td>shyamjaiswal@gmail.com</td>\n",
      "        </tr>\n",
      "        <tr>\n",
      "            <td>Bob</td>\n",
      "            <td>bob32@gmail.com</td>\n",
      "        </tr>\n",
      "        <tr>\n",
      "            <td>Jai</td>\n",
      "            <td>jai87@gmail.com</td>\n",
      "        </tr>\n",
      "    </table>\n",
      "</body>\n",
      "</html>\n"
     ]
    }
   ],
   "source": [
    "data_json = { \"resturant employees\" :[ \n",
    "    {\"name\":\"Shyam\", \"email\":\"shyamjaiswal@gmail.com\"},\n",
    "    {\"name\":\"Bob\", \"email\":\"bob32@gmail.com\"},\n",
    "    {\"name\":\"Jai\", \"email\":\"jai87@gmail.com\"}\n",
    "]}\n",
    "\n",
    "prompt = f\"\"\"\n",
    "Translate the following python dictionary from JSON to an HTML \\\n",
    "table with column headers and title: {data_json}\n",
    "\"\"\"\n",
    "response = get_completion(prompt)\n",
    "print(response)"
   ]
  },
  {
   "cell_type": "code",
   "execution_count": 21,
   "id": "54b5080e-3fee-4f4c-a48c-c2b7668322ec",
   "metadata": {},
   "outputs": [
    {
     "data": {
      "text/html": [
       "<html>\n",
       "<head>\n",
       "    <title>Restaurant Employees</title>\n",
       "</head>\n",
       "<body>\n",
       "    <table border=\"1\">\n",
       "        <tr>\n",
       "            <th>Name</th>\n",
       "            <th>Email</th>\n",
       "        </tr>\n",
       "        <tr>\n",
       "            <td>Shyam</td>\n",
       "            <td>shyamjaiswal@gmail.com</td>\n",
       "        </tr>\n",
       "        <tr>\n",
       "            <td>Bob</td>\n",
       "            <td>bob32@gmail.com</td>\n",
       "        </tr>\n",
       "        <tr>\n",
       "            <td>Jai</td>\n",
       "            <td>jai87@gmail.com</td>\n",
       "        </tr>\n",
       "    </table>\n",
       "</body>\n",
       "</html>"
      ],
      "text/plain": [
       "<IPython.core.display.HTML object>"
      ]
     },
     "metadata": {},
     "output_type": "display_data"
    }
   ],
   "source": [
    "from IPython.display import display, Markdown, Latex, HTML, JSON\n",
    "display(HTML(response))"
   ]
  },
  {
   "cell_type": "markdown",
   "id": "72247710-8ffe-4fdc-85a4-c287723287df",
   "metadata": {},
   "source": [
    "## Spellcheck/Grammar check.\n",
    "\n",
    "Here are some examples of common grammar and spelling problems and the LLM's response. \n",
    "\n",
    "To signal to the LLM that you want it to proofread your text, you instruct the model to 'proofread' or 'proofread and correct'."
   ]
  },
  {
   "cell_type": "code",
   "execution_count": 22,
   "id": "8053c4b0-3a96-47f2-9b18-390f916abb89",
   "metadata": {},
   "outputs": [
    {
     "name": "stdout",
     "output_type": "stream",
     "text": [
      "The girl with the black and white puppies has a ball.\n",
      "No errors found.\n",
      "No errors found.\n",
      "Their goes my freedom. There going to bring they’re suitcases.\n",
      "\n",
      "No errors found.\n",
      "\n",
      "Rewritten:\n",
      "Their goes my freedom. There going to bring their suitcases.\n",
      "You're going to need your notebook.\n",
      "No errors found.\n",
      "No errors found\n"
     ]
    }
   ],
   "source": [
    "text = [ \n",
    "  \"The girl with the black and white puppies have a ball.\",  # The girl has a ball.\n",
    "  \"Yolanda has her notebook.\", # ok\n",
    "  \"Its going to be a long day. Does the car need it’s oil changed?\",  # Homonyms\n",
    "  \"Their goes my freedom. There going to bring they’re suitcases.\",  # Homonyms\n",
    "  \"Your going to need you’re notebook.\",  # Homonyms\n",
    "  \"That medicine effects my ability to sleep. Have you heard of the butterfly affect?\", # Homonyms\n",
    "  \"This phrase is to cherck chatGPT for speling abilitty\"  # spelling\n",
    "]\n",
    "for t in text:\n",
    "    prompt = f\"\"\"Proofread and correct the following text\n",
    "    and rewrite the corrected version. If you don't find\n",
    "    and errors, just say \"No errors found\". Don't use \n",
    "    any punctuation around the text:\n",
    "    ```{t}```\"\"\"\n",
    "    response = get_completion(prompt)\n",
    "    print(response)"
   ]
  },
  {
   "cell_type": "code",
   "execution_count": 23,
   "id": "c14867bd-ac5d-431d-8d05-956ff2619b7a",
   "metadata": {},
   "outputs": [
    {
     "name": "stdout",
     "output_type": "stream",
     "text": [
      "I got this for my daughter for her birthday because she keeps taking mine from my room. Yes, adults also like pandas too. She takes it everywhere with her, and it's super soft and cute. One of the ears is a bit lower than the other, and I don't think that was designed to be asymmetrical. It's a bit small for what I paid for it though. I think there might be other options that are bigger for the same price. It arrived a day earlier than expected, so I got to play with it myself before I gave it to my daughter.\n"
     ]
    }
   ],
   "source": [
    "text = f\"\"\"\n",
    "Got this for my daughter for her birthday cuz she keeps taking \\\n",
    "mine from my room.  Yes, adults also like pandas too.  She takes \\\n",
    "it everywhere with her, and it's super soft and cute.  One of the \\\n",
    "ears is a bit lower than the other, and I don't think that was \\\n",
    "designed to be asymmetrical. It's a bit small for what I paid for it \\\n",
    "though. I think there might be other options that are bigger for \\\n",
    "the same price.  It arrived a day earlier than expected, so I got \\\n",
    "to play with it myself before I gave it to my daughter.\n",
    "\"\"\"\n",
    "prompt = f\"proofread and correct this review: ```{text}```\"\n",
    "response = get_completion(prompt)\n",
    "print(response)"
   ]
  },
  {
   "cell_type": "markdown",
   "id": "9b7195b2-0aef-4d70-a88c-eb7031c26e23",
   "metadata": {},
   "source": [
    "Thanks to the following sites:\n",
    "\n",
    "https://writingprompts.com/bad-grammar-examples/\n"
   ]
  },
  {
   "cell_type": "code",
   "execution_count": null,
   "id": "1b02c2dc-5786-413b-bd40-28eb88dc1a44",
   "metadata": {},
   "outputs": [],
   "source": []
  }
 ],
 "metadata": {
  "kernelspec": {
   "display_name": "Python 3 (ipykernel)",
   "language": "python",
   "name": "python3"
  },
  "language_info": {
   "codemirror_mode": {
    "name": "ipython",
    "version": 3
   },
   "file_extension": ".py",
   "mimetype": "text/x-python",
   "name": "python",
   "nbconvert_exporter": "python",
   "pygments_lexer": "ipython3",
   "version": "3.9.19"
  }
 },
 "nbformat": 4,
 "nbformat_minor": 5
}
